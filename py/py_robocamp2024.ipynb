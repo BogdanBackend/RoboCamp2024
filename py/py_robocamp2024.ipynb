{
  "cells": [
    {
      "cell_type": "markdown",
      "metadata": {
        "id": "uj9T5OnM3WM5"
      },
      "source": [
        "# Завдання для самопідготовки robocamp 2024\n",
        "# Python level 1\n"
      ]
    },
    {
      "cell_type": "markdown",
      "metadata": {
        "id": "L6gxrb5h3i0u"
      },
      "source": [
        "## Задача 1\n",
        "Створити програму, яка приймає від користувача випадкову кількість чисел, введених з клавіатури.\n",
        "1. Вивести до консолі ймовірність отримання випадковим чином числа, яке є найближчим до середнього арифметичного всього набору чисел.\n",
        "2. Прибрати з набору числа, які збігаються з набором чисел Фібоначчі\n",
        "3. Прибрати дублікати чисел, які кратні найменшому числу з набору.\n"
      ]
    },
    {
      "cell_type": "code",
      "execution_count": null,
      "metadata": {
        "colab": {
          "base_uri": "https://localhost:8080/"
        },
        "id": "pkCfDdFg3NZ9",
        "outputId": "1ee49a32-f4e5-43de-fee2-4c029543d515"
      },
      "outputs": [
        {
          "name": "stdout",
          "output_type": "stream",
          "text": [
            "Введіть 7 кількість чисел\n",
            "Число 0 = 1\n",
            "Число 1 = 2\n",
            "Число 2 = 3\n",
            "Число 3 = 4\n",
            "Число 4 = 5\n",
            "Число 5 = 6\n",
            "Число 6 = 7\n",
            "Ймовірність вибору числа 4, яке наближене до середнього арефметичного: 4.00, рівна 0.14\n",
            "Після очистки колізій з Фібоначі: [4, 6, 7]\n",
            "Після очистки кратних мініуму: [4, 6, 7]\n"
          ]
        }
      ],
      "source": [
        "from random import randint\n",
        "\n",
        "def fibonacci(limit):\n",
        "  fib = [0, 1]\n",
        "  while True:\n",
        "    next_fib = fib[-1] + fib[-2]\n",
        "    if next_fib > limit: return fib\n",
        "    fib.append(next_fib)\n",
        "\n",
        "count_numbers = randint(1,10)\n",
        "numbers = []\n",
        "print(f'Введіть {count_numbers} кількість чисел')\n",
        "for i in range(count_numbers):\n",
        "  numbers.append(int(input(f'Число {i} = ')))\n",
        "\n",
        "arithmetic_mean = sum(numbers)/len(numbers)\n",
        "closest_number = min(numbers, key=lambda x: abs(x - arithmetic_mean))\n",
        "closest_count = numbers.count(closest_number)\n",
        "print(f\"Ймовірність вибору числа {closest_number}, яке наближене до середнього\"+\n",
        "      f\" арефметичного: {arithmetic_mean:.2f}, рівна {closest_count/len(numbers):.2f}\")\n",
        "\n",
        "numbers_like_fibinacchi = fibonacci(max(numbers))\n",
        "numbers_fib = [x for x in numbers if x not in numbers_like_fibinacchi]\n",
        "print(f\"Після очистки колізій з Фібоначі: {numbers_fib}\")\n",
        "\n",
        "numbers_dupl = numbers_fib\n",
        "if min(numbers_fib) != 0:\n",
        "  numbers_dupl =  [x for x in numbers_fib\n",
        "                   if not(x % min(numbers_fib) == 0 and x != min(numbers_fib))]\n",
        "print(f\"Після очистки кратних мініуму: {numbers_dupl}\")"
      ]
    },
    {
      "cell_type": "markdown",
      "metadata": {
        "id": "JXH7rmFV3TXc"
      },
      "source": [
        "## Задача 2\n",
        "Створити окремий файл-модуль. Файл має містити в собі мінімум три методи:\n",
        "1. Перший метод приймає рядок у вигляді назви страви та повертає упорядкований словник з відповідним рецептом.\n",
        "2. Другий метод приймає словник з рецептом та повертати складність приготування у вигляді 1 - легко, 2 - середнє, 3 - складно. Складність має визначатись відповідно до кількості інгредієнтів та кроків приготування.\n",
        "3. Третій метод приймає список інгредієнтів користувача та словник з рецептом та повертає значення True, якщо користувач може приготувати цю страву та False, якщо не може.\n",
        "\tКожен метод має оброблювати всі можливі помилки та містити явно вказані типи даних.\n",
        "\tВсередині файлу main.py мають бути використані щонайменше три методи з файлу-модуля.\n"
      ]
    },
    {
      "cell_type": "code",
      "execution_count": null,
      "metadata": {
        "id": "lpdNDQbQmkq6"
      },
      "outputs": [],
      "source": [
        "# recipe_module.py\n",
        "from typing import Dict, List, OrderedDict\n",
        "\n",
        "recipes = {\n",
        "    \"борщ\": OrderedDict({\n",
        "        \"інгредієнти\": [\"буряк\", \"капуста\", \"картопля\", \"морква\", \"томатна паста\", \"м'ясо\"],\n",
        "        \"кроки\": [\"Підготувати овочі\", \"Зварити м'ясо\", \"Приготувати овочі\", \"Змішати все та тушкувати\"]\n",
        "    }),\n",
        "    \"паста\": OrderedDict({\n",
        "        \"інгредієнти\": [\"паста\", \"помідори\", \"оливкова олія\", \"пармезан\"],\n",
        "        \"кроки\": [\"Зварити пасту\", \"Приготувати соус\", \"Змішати та подавати\"]\n",
        "    })\n",
        "}\n",
        "def get_recipe(dish_name: str) -> OrderedDict:\n",
        "    if dish_name.lower() in recipes:\n",
        "        return recipes[dish_name.lower()]\n",
        "    else:\n",
        "        raise ValueError(f\"Рецепт для {dish_name} не знайдено.\")\n",
        "\n",
        "def get_difficulty_level(recipe: Dict[str, List[str]]) -> int:\n",
        "    try:\n",
        "        difficulty = len(recipe[\"інгредієнти\"]) + len(recipe[\"кроки\"])\n",
        "        if difficulty <= 6:          return 1\n",
        "        elif 7 <= difficulty  <= 10: return 2\n",
        "        else:                        return 3\n",
        "    except KeyError:\n",
        "        raise KeyError(\"Рецепт має містити ключі 'інгредієнти' та 'кроки'.\")\n",
        "\n",
        "def can_cook(user_ingredients: List[str], recipe: Dict[str, List[str]]) -> bool:\n",
        "    try:\n",
        "        return set(recipe[\"інгредієнти\"]).issubset(set(user_ingredients))\n",
        "    except KeyError:\n",
        "        raise KeyError(\"Рецепт має містити ключ 'інгредієнти'.\")\n"
      ]
    },
    {
      "cell_type": "code",
      "execution_count": null,
      "metadata": {
        "colab": {
          "base_uri": "https://localhost:8080/"
        },
        "id": "UhFpc5msnwnX",
        "outputId": "86a5dc6d-4d7b-4ad0-b2da-3d48a58e6c2c"
      },
      "outputs": [
        {
          "name": "stdout",
          "output_type": "stream",
          "text": [
            "Рецепт для борща: OrderedDict([('інгредієнти', ['буряк', 'капуста', 'картопля', 'морква', 'томатна паста', \"м'ясо\"]), ('кроки', ['Підготувати овочі', \"Зварити м'ясо\", 'Приготувати овочі', 'Змішати все та тушкувати'])])\n",
            "Рівень складності: 2\n",
            "Можна приготувати: True\n"
          ]
        }
      ],
      "source": [
        "# main.py\n",
        "# from recipe_module import get_recipe, get_difficulty_level, can_cook\n",
        "\n",
        "def main():\n",
        "    try:\n",
        "        recipe  = get_recipe(\"Борщ\")\n",
        "        print(f\"Рецепт для борща: {recipe}\")\n",
        "        складність = get_difficulty_level(recipe)\n",
        "        print(f\"Рівень складності: {складність}\")\n",
        "        ingradients = [\"буряк\", \"капуста\", \"картопля\", \"морква\", \"томатна паста\", \"м'ясо\"]\n",
        "        print(f\"Можна приготувати: {can_cook(ingradients, recipe)}\")\n",
        "\n",
        "    except ValueError as e: print(e)\n",
        "    except KeyError as e:   print(e)\n",
        "\n",
        "if __name__ == \"__main__\":\n",
        "    main()\n"
      ]
    },
    {
      "cell_type": "markdown",
      "metadata": {
        "id": "Sst9NffSt5Xr"
      },
      "source": [
        "## Задача 3\n",
        "Створити програму використовуючи вбудований UI модуль Tkinter.\n",
        "1. Програма має містити персонажа та базове керування з клавіатури вліво-вправо\n",
        "2. Гра має містити бонус та антибонус. Гравець повинен збирати бонуси та антибонуси.\n",
        "3. При зборі бонусу гравець має отримувати бал в рахунок та відображати його на ігровому екрані. При зборі антибонусу гра має завершитись.\n"
      ]
    },
    {
      "cell_type": "code",
      "execution_count": null,
      "metadata": {
        "id": "BcJCooYDzVSK"
      },
      "outputs": [],
      "source": [
        "import tkinter as tk\n",
        "import random\n",
        "\n",
        "root = tk.Tk()\n",
        "root.title(\"Гра\")\n",
        "\n",
        "\n",
        "canvas_height = 500\n",
        "canvas_width  = 500\n",
        "canvas = tk.Canvas(root, width=canvas_width, height=canvas_height)\n",
        "canvas.pack()\n",
        "\n",
        "player = canvas.create_rectangle(50, canvas_height - 40, 90, canvas_height - 10, fill=\"blue\")\n",
        "\n",
        "player_speed = 20\n",
        "\n",
        "def move_left(event):\n",
        "    canvas.move(player, -player_speed, 0)\n",
        "    check_collision()\n",
        "\n",
        "def move_right(event):\n",
        "    canvas.move(player, player_speed, 0)\n",
        "    check_collision()\n",
        "\n",
        "root.bind(\"<Left>\", move_left)\n",
        "root.bind(\"<Right>\", move_right)\n",
        "\n",
        "bonus = canvas.create_rectangle(random.randint(0, canvas_width - 30), 0, random.randint(30, canvas_width), 30, fill=\"green\")\n",
        "antibonus = canvas.create_rectangle(random.randint(0, canvas_width - 30), 0, random.randint(30, canvas_width), 30, fill=\"red\")\n",
        "\n",
        "bonus_speed = 5\n",
        "antibonus_speed = 5\n",
        "\n",
        "score = 0\n",
        "score_text = canvas.create_text(50, 20, text=f\"Рахунок: {score}\", font=(\"Arial\", 16), fill=\"black\")\n",
        "\n",
        "def check_collision():\n",
        "    global score\n",
        "    player_coords = canvas.coords(player)\n",
        "    bonus_coords = canvas.coords(bonus)\n",
        "    antibonus_coords = canvas.coords(antibonus)\n",
        "\n",
        "    if (player_coords[2] > bonus_coords[0] and player_coords[0] < bonus_coords[2] and\n",
        "        player_coords[3] > bonus_coords[1] and player_coords[1] < bonus_coords[3]):\n",
        "        score += 1\n",
        "        canvas.itemconfig(score_text, text=f\"Рахунок: {score}\")\n",
        "        reset_bonus()\n",
        "\n",
        "    if (player_coords[2] > antibonus_coords[0] and player_coords[0] < antibonus_coords[2] and\n",
        "        player_coords[3] > antibonus_coords[1] and player_coords[1] < antibonus_coords[3]):\n",
        "        game_over()\n",
        "\n",
        "def reset_bonus():\n",
        "    canvas.coords(bonus, random.randint(0, canvas_width - 30), 0, random.randint(30, canvas_width), 30)\n",
        "\n",
        "def game_over():\n",
        "    global score\n",
        "    txt = canvas.create_text(canvas_width / 2, canvas_height / 2, text=\"Ви загинули!\", font=(\"Arial\", 24), fill=\"red\")\n",
        "    root.unbind(\"<Left>\")\n",
        "    root.unbind(\"<Right>\")\n",
        "    root.after_cancel(update)\n",
        "    score = 0\n",
        "    canvas.itemconfig(score_text, text=f\"Рахунок: {score}\")\n",
        "\n",
        "    def restart():\n",
        "        global score\n",
        "        root.bind(\"<Left>\", move_left)\n",
        "        root.bind(\"<Right>\", move_right)\n",
        "        canvas.itemconfig(txt, text=\"\")\n",
        "    root.after(2000, restart)\n",
        "\n",
        "def update():\n",
        "    canvas.move(bonus, 0, bonus_speed)\n",
        "    canvas.move(antibonus, 0, antibonus_speed)\n",
        "    if canvas.coords(bonus)[3] > canvas_height:\n",
        "        reset_bonus()\n",
        "    if canvas.coords(antibonus)[3] > canvas_height:\n",
        "        canvas.coords(antibonus, random.randint(0, canvas_width - 30), 0, random.randint(30, canvas_width), 30)\n",
        "    check_collision()\n",
        "    root.after(50, update)\n",
        "root.after(50, update)\n",
        "update()\n",
        "root.mainloop()"
      ]
    },
    {
      "cell_type": "markdown",
      "metadata": {
        "id": "rLTF5hLNzXBj"
      },
      "source": [
        "![](https://i.imgur.com/WToPOW8.gif)"
      ]
    },
    {
      "cell_type": "markdown",
      "metadata": {
        "id": "NHsqAS_RnBt4"
      },
      "source": [
        "# Level 2"
      ]
    },
    {
      "cell_type": "markdown",
      "metadata": {
        "id": "zxAhHIqpnBHn"
      },
      "source": [
        "# Задача 1\n",
        "Створити програму, використовуючи Об’єктно-Орієнтований підхід, у якій буде імплементовано щонайменше один клас. Клас має містити в собі щонайменше три Dunder Methods. Створити двозв’язний список, який має можливість додавання, видаляння, читання та руху по “нодам” списку в обидві сторони.\n"
      ]
    },
    {
      "cell_type": "code",
      "execution_count": null,
      "metadata": {
        "colab": {
          "base_uri": "https://localhost:8080/"
        },
        "id": "IMdsCl99nAfT",
        "outputId": "16fd52c1-4c14-4b7d-bbd9-811d5021fe64"
      },
      "outputs": [
        {
          "name": "stdout",
          "output_type": "stream",
          "text": [
            "Список після додавання 1 2 3:\n",
            "1 <-> 2 <-> 3\n",
            "Forward : ['1', '2', '3']\n",
            "Backward: ['3', '2', '1']\n",
            "Список після видалення 2:\n",
            "1 <-> 3\n"
          ]
        }
      ],
      "source": [
        "class DoublyLinkedList:\n",
        "    class _Node:\n",
        "        def __init__(self, value):\n",
        "            self.value = value\n",
        "            self.prev = None\n",
        "            self.next = None\n",
        "\n",
        "        def __str__(self):\n",
        "            return str(self.value)\n",
        "\n",
        "    def __init__(self):\n",
        "        self.head = None\n",
        "        self.tail = None\n",
        "\n",
        "    def __str__(self):\n",
        "        return \" <-> \".join(map(str, self))\n",
        "\n",
        "    def __iter__(self):\n",
        "        current = self.head\n",
        "        while current:\n",
        "            yield current\n",
        "            current = current.next\n",
        "\n",
        "    def add_first(self, value):\n",
        "        new_node = self._Node(value)\n",
        "        if not self.head:\n",
        "            self.head = self.tail = new_node\n",
        "        else:\n",
        "            new_node.next = self.head\n",
        "            self.head.prev = new_node\n",
        "            self.head = new_node\n",
        "\n",
        "    def add_last(self, value):\n",
        "        new_node = self._Node(value)\n",
        "        if not self.tail:\n",
        "            self.head = self.tail = new_node\n",
        "        else:\n",
        "            self.tail.next = new_node\n",
        "            new_node.prev = self.tail\n",
        "            self.tail = new_node\n",
        "\n",
        "    def delete(self, value):\n",
        "        current = self.head\n",
        "        while current:\n",
        "            if current.value == value:\n",
        "                if current.prev:\n",
        "                    current.prev.next = current.next\n",
        "                else:\n",
        "                    self.head = current.next\n",
        "                if current.next:\n",
        "                    current.next.prev = current.prev\n",
        "                else:\n",
        "                    self.tail = current.prev\n",
        "                return\n",
        "            current = current.next\n",
        "\n",
        "    def __getitem__(self, value):\n",
        "        for node in self:\n",
        "            if node.value == value:\n",
        "                return node\n",
        "        return None\n",
        "\n",
        "    def traverse_forward(self):\n",
        "        print(f'Forward : {[str(i) for i in self]}')\n",
        "\n",
        "    def traverse_backward(self):\n",
        "        res = []\n",
        "        current = self.tail\n",
        "        while current:\n",
        "            res.append(current)\n",
        "            current = current.prev\n",
        "        print(f'Backward: {[str(i) for i in res]}')\n",
        "\n",
        "\n",
        "dll = DoublyLinkedList()\n",
        "\n",
        "print(\"Список після додавання 1 2 3:\")\n",
        "dll.add_first(1)\n",
        "dll.add_last(2)\n",
        "dll.add_last(3)\n",
        "print(dll)\n",
        "\n",
        "dll.traverse_forward()\n",
        "dll.traverse_backward()\n",
        "\n",
        "print(\"Список після видалення 2:\")\n",
        "dll.delete(2)\n",
        "print(dll)\n"
      ]
    },
    {
      "cell_type": "markdown",
      "metadata": {
        "id": "-TNfhViHnK5n"
      },
      "source": [
        "# Задача 2\n",
        "Створити програму, використовуючи Об’єктно-Орієнтований підхід. Реалізуйте класи для представлення книг, читачів і бібліотеки з відповідними методами для додавання, видалення та пошуку книг, реєстрації читачів і видачі книг читачам.\n",
        "Книга, Бібліотека та Читач мають бути окремими класами.\n"
      ]
    },
    {
      "cell_type": "code",
      "execution_count": 1,
      "metadata": {
        "colab": {
          "base_uri": "https://localhost:8080/"
        },
        "id": "9xiTnPatnNMf",
        "outputId": "6e2213af-9439-4155-a957-864092dca9ef"
      },
      "outputs": [
        {
          "name": "stdout",
          "output_type": "stream",
          "text": [
            "Added 'To Kill a Mockingbird' by Harper Lee (1960) to the library.\n",
            "Added '1984' by George Orwell (1949) to the library.\n",
            "Registered Reader: Alice in the library.\n",
            "Alice borrowed 'To Kill a Mockingbird' by Harper Lee (1960).\n",
            "Added 'To Kill a Mockingbird' by Harper Lee (1960) to the library.\n",
            "Alice returned 'To Kill a Mockingbird' by Harper Lee (1960).\n",
            "Alice borrowed 'To Kill a Mockingbird' by Harper Lee (1960).\n"
          ]
        }
      ],
      "source": [
        "class Book:\n",
        "    def __init__(self, title, author, year):\n",
        "        self.title = title\n",
        "        self.author = author\n",
        "        self.year = year\n",
        "\n",
        "    def __str__(self):\n",
        "        return f\"'{self.title}' by {self.author} ({self.year})\"\n",
        "\n",
        "\n",
        "class Reader:\n",
        "    def __init__(self, name):\n",
        "        self.name = name\n",
        "        self.books = []\n",
        "\n",
        "    def borrow_book(self, book, library):\n",
        "        if library.lend_book(book, self):\n",
        "            self.books.append(book)\n",
        "            print(f\"{self.name} borrowed {book}.\")\n",
        "        else:\n",
        "            print(f\"Sorry, {self.name}, the book {book} is not available.\")\n",
        "\n",
        "    def return_book(self, book, library):\n",
        "        if book in self.books:\n",
        "            self.books.remove(book)\n",
        "            library.add_book(book)\n",
        "            print(f\"{self.name} returned {book}.\")\n",
        "        else:\n",
        "            print(f\"{self.name} doesn't have {book}.\")\n",
        "\n",
        "    def __str__(self):\n",
        "        return f\"Reader: {self.name}\"\n",
        "\n",
        "\n",
        "class Library:\n",
        "    def __init__(self):\n",
        "        self.books = []\n",
        "        self.readers = []\n",
        "\n",
        "    def add_book(self, book):\n",
        "        self.books.append(book)\n",
        "        print(f\"Added {book} to the library.\")\n",
        "\n",
        "    def remove_book(self, book):\n",
        "        if book in self.books:\n",
        "            self.books.remove(book)\n",
        "            print(f\"Removed {book} from the library.\")\n",
        "        else:\n",
        "            print(f\"{book} not found in the library.\")\n",
        "\n",
        "    def lend_book(self, book, reader):\n",
        "        if not book in self.books:\n",
        "            return False\n",
        "        self.books.remove(book)\n",
        "        return True\n",
        "\n",
        "    def register_reader(self, reader):\n",
        "        self.readers.append(reader)\n",
        "        print(f\"Registered {reader} in the library.\")\n",
        "\n",
        "    def find_book(self, title):\n",
        "        for book in self.books:\n",
        "            if book.title == title: return book\n",
        "        return None\n",
        "\n",
        "    def __str__(self):\n",
        "        return f\"Library with {len(self.books)} books and {len(self.readers)} readers.\"\n",
        "\n",
        "library = Library()\n",
        "\n",
        "book1 = Book(\"To Kill a Mockingbird\", \"Harper Lee\", 1960)\n",
        "book2 = Book(\"1984\", \"George Orwell\", 1949)\n",
        "library.add_book(book1)\n",
        "library.add_book(book2)\n",
        "\n",
        "reader = Reader(\"Alice\")\n",
        "library.register_reader(reader)\n",
        "\n",
        "reader.borrow_book(book1, library)\n",
        "reader.return_book(book1, library)\n",
        "reader.borrow_book(book1, library)"
      ]
    }
  ],
  "metadata": {
    "colab": {
      "provenance": []
    },
    "kernelspec": {
      "display_name": "Python 3",
      "name": "python3"
    },
    "language_info": {
      "name": "python"
    }
  },
  "nbformat": 4,
  "nbformat_minor": 0
}
